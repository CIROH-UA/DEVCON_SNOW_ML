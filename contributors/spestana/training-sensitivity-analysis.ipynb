{
 "cells": [
  {
   "cell_type": "code",
   "execution_count": 1,
   "id": "0ed4a88d-4ea8-46e7-a378-72fa6c2c04f0",
   "metadata": {
    "tags": []
   },
   "outputs": [],
   "source": [
    "import pandas as pd"
   ]
  },
  {
   "cell_type": "code",
   "execution_count": 2,
   "id": "e531f204-05ed-4e15-9a04-823f9b07717e",
   "metadata": {
    "tags": []
   },
   "outputs": [],
   "source": [
    "df = pd.read_csv('all_tests_performance.csv')"
   ]
  },
  {
   "cell_type": "code",
   "execution_count": 8,
   "id": "4d164556-7077-40c5-b99b-30bb732c8e4f",
   "metadata": {
    "tags": []
   },
   "outputs": [
    {
     "data": {
      "text/html": [
       "<div>\n",
       "<style scoped>\n",
       "    .dataframe tbody tr th:only-of-type {\n",
       "        vertical-align: middle;\n",
       "    }\n",
       "\n",
       "    .dataframe tbody tr th {\n",
       "        vertical-align: top;\n",
       "    }\n",
       "\n",
       "    .dataframe thead th {\n",
       "        text-align: right;\n",
       "    }\n",
       "</style>\n",
       "<table border=\"1\" class=\"dataframe\">\n",
       "  <thead>\n",
       "    <tr style=\"text-align: right;\">\n",
       "      <th></th>\n",
       "      <th>Unnamed: 0</th>\n",
       "      <th>Region</th>\n",
       "      <th>R2</th>\n",
       "      <th>RMSE</th>\n",
       "      <th>R2_fSCA</th>\n",
       "      <th>RMSE_fSCA</th>\n",
       "      <th>nLayers</th>\n",
       "      <th>node_list</th>\n",
       "      <th>epochs</th>\n",
       "      <th>batch_size</th>\n",
       "      <th>shuffle</th>\n",
       "      <th>activation</th>\n",
       "    </tr>\n",
       "  </thead>\n",
       "  <tbody>\n",
       "    <tr>\n",
       "      <th>0</th>\n",
       "      <td>0</td>\n",
       "      <td>N_Sierras</td>\n",
       "      <td>0.79</td>\n",
       "      <td>16.52</td>\n",
       "      <td>0.78</td>\n",
       "      <td>17.02</td>\n",
       "      <td>6</td>\n",
       "      <td>[128, 128, 64, 64, 32, 16]</td>\n",
       "      <td>1</td>\n",
       "      <td>10</td>\n",
       "      <td>True</td>\n",
       "      <td>relu</td>\n",
       "    </tr>\n",
       "    <tr>\n",
       "      <th>1</th>\n",
       "      <td>1</td>\n",
       "      <td>S_Sierras_Low</td>\n",
       "      <td>0.57</td>\n",
       "      <td>16.60</td>\n",
       "      <td>0.51</td>\n",
       "      <td>17.71</td>\n",
       "      <td>6</td>\n",
       "      <td>[128, 128, 64, 64, 32, 16]</td>\n",
       "      <td>1</td>\n",
       "      <td>10</td>\n",
       "      <td>True</td>\n",
       "      <td>relu</td>\n",
       "    </tr>\n",
       "    <tr>\n",
       "      <th>2</th>\n",
       "      <td>2</td>\n",
       "      <td>S_Sierras_High</td>\n",
       "      <td>0.67</td>\n",
       "      <td>27.14</td>\n",
       "      <td>0.66</td>\n",
       "      <td>27.17</td>\n",
       "      <td>6</td>\n",
       "      <td>[128, 128, 64, 64, 32, 16]</td>\n",
       "      <td>1</td>\n",
       "      <td>10</td>\n",
       "      <td>True</td>\n",
       "      <td>relu</td>\n",
       "    </tr>\n",
       "    <tr>\n",
       "      <th>3</th>\n",
       "      <td>0</td>\n",
       "      <td>N_Sierras</td>\n",
       "      <td>0.81</td>\n",
       "      <td>15.93</td>\n",
       "      <td>0.80</td>\n",
       "      <td>16.27</td>\n",
       "      <td>5</td>\n",
       "      <td>[128, 128, 64, 32, 16]</td>\n",
       "      <td>1</td>\n",
       "      <td>10</td>\n",
       "      <td>True</td>\n",
       "      <td>relu</td>\n",
       "    </tr>\n",
       "    <tr>\n",
       "      <th>4</th>\n",
       "      <td>1</td>\n",
       "      <td>S_Sierras_Low</td>\n",
       "      <td>0.62</td>\n",
       "      <td>15.47</td>\n",
       "      <td>0.56</td>\n",
       "      <td>16.71</td>\n",
       "      <td>5</td>\n",
       "      <td>[128, 128, 64, 32, 16]</td>\n",
       "      <td>1</td>\n",
       "      <td>10</td>\n",
       "      <td>True</td>\n",
       "      <td>relu</td>\n",
       "    </tr>\n",
       "  </tbody>\n",
       "</table>\n",
       "</div>"
      ],
      "text/plain": [
       "   Unnamed: 0          Region    R2   RMSE  R2_fSCA  RMSE_fSCA  nLayers  \\\n",
       "0           0       N_Sierras  0.79  16.52     0.78      17.02        6   \n",
       "1           1   S_Sierras_Low  0.57  16.60     0.51      17.71        6   \n",
       "2           2  S_Sierras_High  0.67  27.14     0.66      27.17        6   \n",
       "3           0       N_Sierras  0.81  15.93     0.80      16.27        5   \n",
       "4           1   S_Sierras_Low  0.62  15.47     0.56      16.71        5   \n",
       "\n",
       "                    node_list  epochs  batch_size  shuffle activation  \n",
       "0  [128, 128, 64, 64, 32, 16]       1          10     True       relu  \n",
       "1  [128, 128, 64, 64, 32, 16]       1          10     True       relu  \n",
       "2  [128, 128, 64, 64, 32, 16]       1          10     True       relu  \n",
       "3      [128, 128, 64, 32, 16]       1          10     True       relu  \n",
       "4      [128, 128, 64, 32, 16]       1          10     True       relu  "
      ]
     },
     "execution_count": 8,
     "metadata": {},
     "output_type": "execute_result"
    }
   ],
   "source": [
    "df.head()"
   ]
  },
  {
   "cell_type": "code",
   "execution_count": 10,
   "id": "699e509c-abe3-47ef-94ed-6525f1492f45",
   "metadata": {},
   "outputs": [
    {
     "data": {
      "text/plain": [
       "<Axes: xlabel='epochs', ylabel='RMSE'>"
      ]
     },
     "execution_count": 10,
     "metadata": {},
     "output_type": "execute_result"
    },
    {
     "data": {
      "image/png": "[encoded data removed]",
      "text/plain": [
       "<Figure size 640x480 with 1 Axes>"
      ]
     },
     "metadata": {},
     "output_type": "display_data"
    }
   ],
   "source": [
    "df.plot.scatter(x='epochs',y='RMSE',  alpha=0.1)"
   ]
  },
  {
   "cell_type": "code",
   "execution_count": null,
   "id": "3d9c79a1-ec8a-4745-ac7c-2c36366cb05a",
   "metadata": {},
   "outputs": [],
   "source": []
  }
 ],
 "metadata": {
  "kernelspec": {
   "display_name": "Python 3 (ipykernel)",
   "language": "python",
   "name": "python3"
  },
  "language_info": {
   "codemirror_mode": {
    "name": "ipython",
    "version": 3
   },
   "file_extension": ".py",
   "mimetype": "text/x-python",
   "name": "python",
   "nbconvert_exporter": "python",
   "pygments_lexer": "ipython3",
   "version": "3.10.12"
  }
 },
 "nbformat": 4,
 "nbformat_minor": 5
}
