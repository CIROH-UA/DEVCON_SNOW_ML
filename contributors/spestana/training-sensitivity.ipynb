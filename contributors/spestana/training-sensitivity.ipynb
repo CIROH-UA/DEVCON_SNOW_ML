{
 "cells": [
  {
   "cell_type": "markdown",
   "id": "87a2f15c-f90f-480e-945f-85f87c328c5f",
   "metadata": {
    "user_expressions": []
   },
   "source": [
    "# Model Training Sensitivity Tests"
   ]
  },
  {
   "cell_type": "code",
   "execution_count": 1,
   "id": "544a9d3b-3e70-4335-bbdd-9cc854ced387",
   "metadata": {
    "tags": []
   },
   "outputs": [
    {
     "name": "stderr",
     "output_type": "stream",
     "text": [
      "2023-10-25 23:08:16.881693: W tensorflow/stream_executor/platform/default/dso_loader.cc:64] Could not load dynamic library 'libcudart.so.11.0'; dlerror: libcudart.so.11.0: cannot open shared object file: No such file or directory\n",
      "2023-10-25 23:08:16.881723: I tensorflow/stream_executor/cuda/cudart_stub.cc:29] Ignore above cudart dlerror if you do not have a GPU set up on your machine.\n"
     ]
    }
   ],
   "source": [
    "import os\n",
    "import DataProcess\n",
    "import MLP_Model\n",
    "#Set working directories\n",
    "cwd = os.getcwd()\n",
    "os.chdir(\"..\")\n",
    "os.chdir(\"..\")\n",
    "datapath = os.getcwd()  "
   ]
  },
  {
   "cell_type": "code",
   "execution_count": 2,
   "id": "6f683619-eb6d-45d1-ba0a-597b16f7de7e",
   "metadata": {
    "tags": []
   },
   "outputs": [
    {
     "name": "stdout",
     "output_type": "stream",
     "text": [
      "Processing training dataframes for each region\n",
      "N_Sierras\n",
      "S_Sierras_Low\n",
      "S_Sierras_High\n"
     ]
    }
   ],
   "source": [
    "#Define hold out year\n",
    "HOY = 2019\n",
    "#Run data processing script to partition key regional dataframes\n",
    "#note, need to load RegionTrain_SCA.h5,\n",
    "RegionTrain, RegionTest, RegionObs_Train, RegionObs_Test, RegionTest_notScaled = DataProcess.DataProcess(HOY, datapath, cwd)"
   ]
  },
  {
   "cell_type": "code",
   "execution_count": 3,
   "id": "d1fc9b80-a953-43e5-9e4b-9f58dc3daacd",
   "metadata": {
    "tags": []
   },
   "outputs": [],
   "source": [
    "#list(RegionTest['N_Sierras'][RegionTest['N_Sierras']['hasSnow'] == False].columns)"
   ]
  },
  {
   "cell_type": "code",
   "execution_count": 4,
   "id": "b87b8dd9-159f-425b-9fe9-751c1032efc2",
   "metadata": {
    "tags": []
   },
   "outputs": [],
   "source": [
    "#RegionTrain['N_Sierras']"
   ]
  },
  {
   "cell_type": "markdown",
   "id": "8879ceb6-4d95-4a01-9087-0805279ec47d",
   "metadata": {
    "user_expressions": []
   },
   "source": [
    "**Ideas:**\n",
    "\n",
    "We can look at the \"shuffle\" option in MLP_Model.py (T/F)\n",
    "\n",
    "the number of epochs hereTwo different options for training. Can add \"batch_size\" variable to Model_train function and test model performance here. Also change size of LDs, number of layers. (training > SSM_Hindcast > Hindcast_eval)\n",
    "\n",
    "Physics Informed Neural Networks (PINNS)\n",
    "\n",
    "loss='mse' could use a function instead of just a metric\n",
    "\n",
    "activation methods in each layer"
   ]
  },
  {
   "cell_type": "code",
   "execution_count": 5,
   "id": "7cd224e0-3f8d-4cb3-8646-c5cf3260a429",
   "metadata": {
    "tags": []
   },
   "outputs": [
    {
     "name": "stdout",
     "output_type": "stream",
     "text": [
      "Training model for:  N_Sierras\n",
      "All previous files deleted successfully.\n",
      "Model: \"model\"\n",
      "_________________________________________________________________\n",
      " Layer (type)                Output Shape              Param #   \n",
      "=================================================================\n",
      " input_1 (InputLayer)        [(None, 105)]             0         \n",
      "                                                                 \n",
      " dense (Dense)               (None, 128)               13568     \n",
      "                                                                 \n",
      " dense_1 (Dense)             (None, 128)               16512     \n",
      "                                                                 \n",
      " dense_2 (Dense)             (None, 64)                8256      \n",
      "                                                                 \n",
      " dense_3 (Dense)             (None, 64)                4160      \n",
      "                                                                 \n",
      " dense_4 (Dense)             (None, 32)                2080      \n",
      "                                                                 \n",
      " dense_5 (Dense)             (None, 16)                528       \n",
      "                                                                 \n",
      " dense_6 (Dense)             (None, 1)                 17        \n",
      "                                                                 \n",
      "=================================================================\n",
      "Total params: 45,121\n",
      "Trainable params: 45,121\n",
      "Non-trainable params: 0\n",
      "_________________________________________________________________\n",
      "None\n"
     ]
    },
    {
     "name": "stderr",
     "output_type": "stream",
     "text": [
      "2023-10-25 23:08:22.530338: W tensorflow/stream_executor/platform/default/dso_loader.cc:64] Could not load dynamic library 'libcuda.so.1'; dlerror: libcuda.so.1: cannot open shared object file: No such file or directory\n",
      "2023-10-25 23:08:22.530367: W tensorflow/stream_executor/cuda/cuda_driver.cc:269] failed call to cuInit: UNKNOWN ERROR (303)\n",
      "2023-10-25 23:08:22.530384: I tensorflow/stream_executor/cuda/cuda_diagnostics.cc:156] kernel driver does not appear to be running on this host (jupyter-spestana): /proc/driver/nvidia/version does not exist\n",
      "2023-10-25 23:08:22.530562: I tensorflow/core/platform/cpu_feature_guard.cc:193] This TensorFlow binary is optimized with oneAPI Deep Neural Network Library (oneDNN) to use the following CPU instructions in performance-critical operations:  AVX2 AVX512F FMA\n",
      "To enable them in other operations, rebuild TensorFlow with the appropriate compiler flags.\n"
     ]
    },
    {
     "name": "stdout",
     "output_type": "stream",
     "text": [
      "Training model for:  S_Sierras_Low\n",
      "All previous files deleted successfully.\n",
      "Model: \"model_1\"\n",
      "_________________________________________________________________\n",
      " Layer (type)                Output Shape              Param #   \n",
      "=================================================================\n",
      " input_2 (InputLayer)        [(None, 6)]               0         \n",
      "                                                                 \n",
      " dense_7 (Dense)             (None, 128)               896       \n",
      "                                                                 \n",
      " dense_8 (Dense)             (None, 128)               16512     \n",
      "                                                                 \n",
      " dense_9 (Dense)             (None, 64)                8256      \n",
      "                                                                 \n",
      " dense_10 (Dense)            (None, 64)                4160      \n",
      "                                                                 \n",
      " dense_11 (Dense)            (None, 32)                2080      \n",
      "                                                                 \n",
      " dense_12 (Dense)            (None, 16)                528       \n",
      "                                                                 \n",
      " dense_13 (Dense)            (None, 1)                 17        \n",
      "                                                                 \n",
      "=================================================================\n",
      "Total params: 32,449\n",
      "Trainable params: 32,449\n",
      "Non-trainable params: 0\n",
      "_________________________________________________________________\n",
      "None\n",
      "Training model for:  S_Sierras_High\n",
      "All previous files deleted successfully.\n",
      "Model: \"model_2\"\n",
      "_________________________________________________________________\n",
      " Layer (type)                Output Shape              Param #   \n",
      "=================================================================\n",
      " input_3 (InputLayer)        [(None, 40)]              0         \n",
      "                                                                 \n",
      " dense_14 (Dense)            (None, 128)               5248      \n",
      "                                                                 \n",
      " dense_15 (Dense)            (None, 128)               16512     \n",
      "                                                                 \n",
      " dense_16 (Dense)            (None, 64)                8256      \n",
      "                                                                 \n",
      " dense_17 (Dense)            (None, 64)                4160      \n",
      "                                                                 \n",
      " dense_18 (Dense)            (None, 32)                2080      \n",
      "                                                                 \n",
      " dense_19 (Dense)            (None, 16)                528       \n",
      "                                                                 \n",
      " dense_20 (Dense)            (None, 1)                 17        \n",
      "                                                                 \n",
      "=================================================================\n",
      "Total params: 36,801\n",
      "Trainable params: 36,801\n",
      "Non-trainable params: 0\n",
      "_________________________________________________________________\n",
      "None\n"
     ]
    }
   ],
   "source": [
    "#model training, each participants model will be different but should follow the prescribed input feature template\n",
    "epochs= 30\n",
    "batch_size = 100\n",
    "node_list =  [128, 128, 64, 64, 32, 16]  # originally we used [128, 128, 64, 64, 32, 16] e.g. [2**7, 2**7, 2**6, 2**6, 2**5, 2**4]\n",
    "shuffle = True\n",
    "MLP_Model.Model_train(cwd, epochs, batch_size, RegionTrain, RegionTest, RegionObs_Train, RegionObs_Test, node_list, shuffle)"
   ]
  },
  {
   "cell_type": "code",
   "execution_count": 6,
   "id": "ee70f9d5-2e23-4147-bf00-4e68144f826a",
   "metadata": {
    "tags": []
   },
   "outputs": [
    {
     "name": "stdout",
     "output_type": "stream",
     "text": [
      "8/8 [==============================] - 0s 915us/step\n",
      "9/9 [==============================] - 0s 843us/step\n",
      "18/18 [==============================] - 0s 774us/step\n"
     ]
    }
   ],
   "source": [
    "#Need to create Predictions folder if running for the first time\n",
    "Predictions = MLP_Model.Model_predict(cwd,  RegionTest, RegionObs_Test, RegionTest_notScaled)"
   ]
  },
  {
   "cell_type": "code",
   "execution_count": 7,
   "id": "cc4f3434-6255-4c12-8ea9-4c114bc882d3",
   "metadata": {
    "tags": []
   },
   "outputs": [
    {
     "name": "stdout",
     "output_type": "stream",
     "text": [
      "Preliminary Model Analysis for:  N_Sierras\n",
      " R2 is  0.8452157506721958\n",
      " RMSE is  14.331523460182222\n",
      " R2 fSCA is  0.833444857719719\n",
      " RMSE fSCA is  14.866474805817203\n"
     ]
    },
    {
     "data": {
      "image/png": "[encoded data removed]",
      "text/plain": [
       "<Figure size 432x288 with 1 Axes>"
      ]
     },
     "metadata": {
      "needs_background": "light"
     },
     "output_type": "display_data"
    },
    {
     "name": "stdout",
     "output_type": "stream",
     "text": [
      "Preliminary Model Analysis for:  S_Sierras_Low\n",
      " R2 is  0.9792950135893126\n",
      " RMSE is  3.6307896774063977\n",
      " R2 fSCA is  0.869219559105562\n",
      " RMSE fSCA is  9.125045018286787\n"
     ]
    },
    {
     "data": {
      "image/png": "[encoded data removed]",
      "text/plain": [
       "<Figure size 432x288 with 1 Axes>"
      ]
     },
     "metadata": {
      "needs_background": "light"
     },
     "output_type": "display_data"
    },
    {
     "name": "stdout",
     "output_type": "stream",
     "text": [
      "Preliminary Model Analysis for:  S_Sierras_High\n",
      " R2 is  0.9725029817718335\n",
      " RMSE is  7.778754919699207\n",
      " R2 fSCA is  0.9611674736428669\n",
      " RMSE fSCA is  9.244110128018926\n"
     ]
    },
    {
     "data": {
      "image/png": "[encoded data removed]",
      "text/plain": [
       "<Figure size 432x288 with 1 Axes>"
      ]
     },
     "metadata": {
      "needs_background": "light"
     },
     "output_type": "display_data"
    }
   ],
   "source": [
    "Performance = MLP_Model.Prelim_Eval(cwd, Predictions, True)\n",
    "\n",
    "Performance['nLayers'] = [len(node_list)] * len(Performance)\n",
    "Performance['node_list'] = [node_list] * len(Performance)\n",
    "Performance['epochs'] = [epochs] * len(Performance)\n",
    "Performance['batch_size'] = [batch_size] * len(Performance)\n",
    "Performance['shuffle'] = [shuffle] * len(Performance)"
   ]
  },
  {
   "cell_type": "code",
   "execution_count": 8,
   "id": "d861050a-2557-4491-8acd-d1905e85e08a",
   "metadata": {
    "tags": []
   },
   "outputs": [
    {
     "data": {
      "text/html": [
       "<div>\n",
       "<style scoped>\n",
       "    .dataframe tbody tr th:only-of-type {\n",
       "        vertical-align: middle;\n",
       "    }\n",
       "\n",
       "    .dataframe tbody tr th {\n",
       "        vertical-align: top;\n",
       "    }\n",
       "\n",
       "    .dataframe thead th {\n",
       "        text-align: right;\n",
       "    }\n",
       "</style>\n",
       "<table border=\"1\" class=\"dataframe\">\n",
       "  <thead>\n",
       "    <tr style=\"text-align: right;\">\n",
       "      <th></th>\n",
       "      <th>Region</th>\n",
       "      <th>R2</th>\n",
       "      <th>RMSE</th>\n",
       "      <th>R2_fSCA</th>\n",
       "      <th>RMSE_fSCA</th>\n",
       "      <th>nLayers</th>\n",
       "      <th>node_list</th>\n",
       "      <th>epochs</th>\n",
       "      <th>batch_size</th>\n",
       "      <th>shuffle</th>\n",
       "    </tr>\n",
       "  </thead>\n",
       "  <tbody>\n",
       "    <tr>\n",
       "      <th>0</th>\n",
       "      <td>N_Sierras</td>\n",
       "      <td>0.85</td>\n",
       "      <td>14.33</td>\n",
       "      <td>0.83</td>\n",
       "      <td>14.87</td>\n",
       "      <td>6</td>\n",
       "      <td>[128, 128, 64, 64, 32, 16]</td>\n",
       "      <td>30</td>\n",
       "      <td>100</td>\n",
       "      <td>True</td>\n",
       "    </tr>\n",
       "    <tr>\n",
       "      <th>1</th>\n",
       "      <td>S_Sierras_Low</td>\n",
       "      <td>0.98</td>\n",
       "      <td>3.63</td>\n",
       "      <td>0.87</td>\n",
       "      <td>9.13</td>\n",
       "      <td>6</td>\n",
       "      <td>[128, 128, 64, 64, 32, 16]</td>\n",
       "      <td>30</td>\n",
       "      <td>100</td>\n",
       "      <td>True</td>\n",
       "    </tr>\n",
       "    <tr>\n",
       "      <th>2</th>\n",
       "      <td>S_Sierras_High</td>\n",
       "      <td>0.97</td>\n",
       "      <td>7.78</td>\n",
       "      <td>0.96</td>\n",
       "      <td>9.24</td>\n",
       "      <td>6</td>\n",
       "      <td>[128, 128, 64, 64, 32, 16]</td>\n",
       "      <td>30</td>\n",
       "      <td>100</td>\n",
       "      <td>True</td>\n",
       "    </tr>\n",
       "  </tbody>\n",
       "</table>\n",
       "</div>"
      ],
      "text/plain": [
       "           Region    R2   RMSE R2_fSCA RMSE_fSCA  nLayers  \\\n",
       "0       N_Sierras  0.85  14.33    0.83     14.87        6   \n",
       "1   S_Sierras_Low  0.98   3.63    0.87      9.13        6   \n",
       "2  S_Sierras_High  0.97   7.78    0.96      9.24        6   \n",
       "\n",
       "                    node_list  epochs  batch_size  shuffle  \n",
       "0  [128, 128, 64, 64, 32, 16]      30         100     True  \n",
       "1  [128, 128, 64, 64, 32, 16]      30         100     True  \n",
       "2  [128, 128, 64, 64, 32, 16]      30         100     True  "
      ]
     },
     "execution_count": 8,
     "metadata": {},
     "output_type": "execute_result"
    }
   ],
   "source": [
    "Performance"
   ]
  },
  {
   "cell_type": "code",
   "execution_count": null,
   "id": "5b249e60-2c98-4a97-bae0-a210ed0ffa65",
   "metadata": {
    "tags": []
   },
   "outputs": [],
   "source": []
  },
  {
   "cell_type": "code",
   "execution_count": 8,
   "id": "94156700-258e-45aa-8709-3933e9c71aae",
   "metadata": {
    "tags": []
   },
   "outputs": [
    {
     "data": {
      "text/html": [
       "<div>\n",
       "<style scoped>\n",
       "    .dataframe tbody tr th:only-of-type {\n",
       "        vertical-align: middle;\n",
       "    }\n",
       "\n",
       "    .dataframe tbody tr th {\n",
       "        vertical-align: top;\n",
       "    }\n",
       "\n",
       "    .dataframe thead th {\n",
       "        text-align: right;\n",
       "    }\n",
       "</style>\n",
       "<table border=\"1\" class=\"dataframe\">\n",
       "  <thead>\n",
       "    <tr style=\"text-align: right;\">\n",
       "      <th></th>\n",
       "      <th>Region</th>\n",
       "      <th>R2</th>\n",
       "      <th>RMSE</th>\n",
       "      <th>R2_fSCA</th>\n",
       "      <th>RMSE_fSCA</th>\n",
       "      <th>nLayers</th>\n",
       "      <th>node_list</th>\n",
       "      <th>epochs</th>\n",
       "      <th>batch_size</th>\n",
       "      <th>shuffle</th>\n",
       "    </tr>\n",
       "  </thead>\n",
       "  <tbody>\n",
       "    <tr>\n",
       "      <th>0</th>\n",
       "      <td>N_Sierras</td>\n",
       "      <td>0.89</td>\n",
       "      <td>12.24</td>\n",
       "      <td>0.88</td>\n",
       "      <td>12.86</td>\n",
       "      <td>6</td>\n",
       "      <td>[128, 128, 64, 64, 32, 16]</td>\n",
       "      <td>30</td>\n",
       "      <td>100</td>\n",
       "      <td>True</td>\n",
       "    </tr>\n",
       "    <tr>\n",
       "      <th>1</th>\n",
       "      <td>S_Sierras_Low</td>\n",
       "      <td>0.98</td>\n",
       "      <td>3.84</td>\n",
       "      <td>0.87</td>\n",
       "      <td>9.21</td>\n",
       "      <td>6</td>\n",
       "      <td>[128, 128, 64, 64, 32, 16]</td>\n",
       "      <td>30</td>\n",
       "      <td>100</td>\n",
       "      <td>True</td>\n",
       "    </tr>\n",
       "    <tr>\n",
       "      <th>2</th>\n",
       "      <td>S_Sierras_High</td>\n",
       "      <td>0.98</td>\n",
       "      <td>7.25</td>\n",
       "      <td>0.96</td>\n",
       "      <td>8.81</td>\n",
       "      <td>6</td>\n",
       "      <td>[128, 128, 64, 64, 32, 16]</td>\n",
       "      <td>30</td>\n",
       "      <td>100</td>\n",
       "      <td>True</td>\n",
       "    </tr>\n",
       "  </tbody>\n",
       "</table>\n",
       "</div>"
      ],
      "text/plain": [
       "           Region    R2   RMSE R2_fSCA RMSE_fSCA  nLayers  \\\n",
       "0       N_Sierras  0.89  12.24    0.88     12.86        6   \n",
       "1   S_Sierras_Low  0.98   3.84    0.87      9.21        6   \n",
       "2  S_Sierras_High  0.98   7.25    0.96      8.81        6   \n",
       "\n",
       "                    node_list  epochs  batch_size  shuffle  \n",
       "0  [128, 128, 64, 64, 32, 16]      30         100     True  \n",
       "1  [128, 128, 64, 64, 32, 16]      30         100     True  \n",
       "2  [128, 128, 64, 64, 32, 16]      30         100     True  "
      ]
     },
     "execution_count": 8,
     "metadata": {},
     "output_type": "execute_result"
    }
   ],
   "source": [
    "\n",
    "Performance"
   ]
  },
  {
   "cell_type": "code",
   "execution_count": null,
   "id": "421f3903-1c44-44d6-9d05-dc6aa90acd9b",
   "metadata": {},
   "outputs": [],
   "source": []
  }
 ],
 "metadata": {
  "kernelspec": {
   "display_name": "NSM_env",
   "language": "python",
   "name": "nsm_env"
  },
  "language_info": {
   "codemirror_mode": {
    "name": "ipython",
    "version": 3
   },
   "file_extension": ".py",
   "mimetype": "text/x-python",
   "name": "python",
   "nbconvert_exporter": "python",
   "pygments_lexer": "ipython3",
   "version": "3.9.12"
  }
 },
 "nbformat": 4,
 "nbformat_minor": 5
}
