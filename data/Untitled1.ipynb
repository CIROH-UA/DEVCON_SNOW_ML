{
 "cells": [
  {
   "cell_type": "code",
   "execution_count": 1,
   "id": "982d06f4-8fbb-412d-a3a4-729ae5f7ef7f",
   "metadata": {
    "tags": []
   },
   "outputs": [],
   "source": [
    "import pickle\n",
    "file_path = \"/home/jovyan/Snow-Extrapolation/data/Optimal_Features.pkl\""
   ]
  },
  {
   "cell_type": "code",
   "execution_count": 2,
   "id": "17fd5d8e-8c5e-4199-b9b1-d25666303ef1",
   "metadata": {
    "tags": []
   },
   "outputs": [],
   "source": [
    "with open(file_path, 'rb') as file:\n",
    "    features = pickle.load(file)\n",
    "file.close()"
   ]
  },
  {
   "cell_type": "code",
   "execution_count": 6,
   "id": "9f942feb-f1b8-49fb-b0e2-875288f933d0",
   "metadata": {
    "tags": []
   },
   "outputs": [
    {
     "data": {
      "text/plain": [
       "Index(['SWE_SNOTEL:1050_CA_SNTL', 'SWE_CDEC:LVT', 'SWE_CDEC:VVL',\n",
       "       'SWE_CDEC:CSV', 'Long', 'SWE_CDEC:PDS', 'WYWeek', 'SWE_CDEC:BLD',\n",
       "       'SWE_CDEC:CHP', 'SWE_CDEC:GEM', 'SWE_CDEC:RCK', 'SWE_CDEC:ALP',\n",
       "       'SWE_CDEC:PSC', 'elevation_m', 'SWE_CDEC:MHP', 'SWE_CDEC:BCH', 'Lat',\n",
       "       'SWE_CDEC:DDM', 'SWE_CDEC:GNL', 'SWE_CDEC:SIL', 'SWE_CDEC:GNF',\n",
       "       'SWE_CDEC:LVM', 'SWE_CDEC:HNT', 'SWE_CDEC:WWC', 'SWE_CDEC:QUA',\n",
       "       'SWE_CDEC:DAN', 'northness', 'SWE_CDEC:MTM', 'SWE_CDEC:UBC',\n",
       "       'SWE_CDEC:FLL', 'prev_SWE', 'Delta_SWE_CDEC:TNY',\n",
       "       'Delta_SWE_SNOTEL:1067_CA_SNTL', 'Delta_SWE_CDEC:MTM',\n",
       "       'Delta_SWE_CDEC:LVT', 'Delta_SWE_CDEC:GEM', 'Delta_SWE_CDEC:BCB',\n",
       "       'Delta_SWE_CDEC:CWD', 'Delta_SWE_CDEC:UBC', 'Delta_SWE_CDEC:DDM'],\n",
       "      dtype='object')"
      ]
     },
     "execution_count": 6,
     "metadata": {},
     "output_type": "execute_result"
    }
   ],
   "source": [
    "features['S_Sierras_High']\n"
   ]
  },
  {
   "cell_type": "code",
   "execution_count": null,
   "id": "2a7c5dd6-b5de-4be9-8243-3ed6f135b187",
   "metadata": {},
   "outputs": [],
   "source": []
  }
 ],
 "metadata": {
  "kernelspec": {
   "display_name": "Python 3 (ipykernel)",
   "language": "python",
   "name": "python3"
  },
  "language_info": {
   "codemirror_mode": {
    "name": "ipython",
    "version": 3
   },
   "file_extension": ".py",
   "mimetype": "text/x-python",
   "name": "python",
   "nbconvert_exporter": "python",
   "pygments_lexer": "ipython3",
   "version": "3.10.12"
  }
 },
 "nbformat": 4,
 "nbformat_minor": 5
}
