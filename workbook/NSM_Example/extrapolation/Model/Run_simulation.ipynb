{
 "cells": [
  {
   "cell_type": "markdown",
   "metadata": {},
   "source": [
    "## SWE Estimation Beyond Training Spatial Domain\n",
    "\n",
    "Now that we have successfully trained, tuned, and evaluated the model to a satisfactory level, we may apply the trained model to estimate SWE at a larger scale. We will look at creating a seemless SWE estimate for a small watershed (~300 sqkm) in the Sierra Nevada that contains an area outside of the training and testing domain cells. We will model SWE for water year 2022. \n"
   ]
  },
  {
   "cell_type": "code",
   "execution_count": null,
   "metadata": {
    "tags": []
   },
   "outputs": [],
   "source": [
    "import os\n",
    "import Regional_SWE\n",
    "import viz\n",
    "import warnings\n",
    "warnings.filterwarnings(\"ignore\")\n",
    "\n",
    "#set path directory\n",
    "os.getcwd()\n",
    "os.chdir('../..')\n",
    "cwd = os.getcwd()\n",
    "os.chdir('../..')\n",
    "datapath = os.getcwd()"
   ]
  },
  {
   "cell_type": "markdown",
   "metadata": {},
   "source": [
    "### Initialize Directory for Execution\n",
    "\n",
    "The Following code intitializes the necessary folder and file structure and loads the model to prepare for the simulation.\n",
    "\n",
    "* Note that if you are using a modeltype other than the MLP or GBM models presented in this workbook, you will need to add or edit the load model statement to the Predict function in [extrapolation/model/National_Snow_Model_Regional.py](National_Snow_Model_Regional.py)."
   ]
  },
  {
   "cell_type": "code",
   "execution_count": null,
   "metadata": {
    "tags": []
   },
   "outputs": [],
   "source": [
    "SWE_est = Regional_SWE.Region_SWE_Simulation(cwd, datapath, \"example_wshd\", 2021, \"MLP\") ### replace Area_name with your area\n",
    "\n",
    "# SWE_est.PreProcess(\"Path to area shapefile\") ### This can take a while. Once it has been executed once, and Geo_df.csv has been created for an area it need not be re-run.\n",
    "\n",
    "SWE_est.Prepare_Prediction()"
   ]
  },
  {
   "cell_type": "markdown",
   "metadata": {},
   "source": [
    "### Run Simulation\n",
    "\n",
    "We can now run a weekly simulation for water year 2022. The start of simulation must be October 1st. Results will be output to the predictions folder."
   ]
  },
  {
   "cell_type": "code",
   "execution_count": null,
   "metadata": {
    "tags": []
   },
   "outputs": [],
   "source": [
    "SWE_est.Regional_Predict('2021-10-01','2022-07-15', plot = False)  ### change dates as needed. If first time running a simulation, start date must be YYYY-10-01. Set plot=True for interactive mapping inline; will increase exectuion time"
   ]
  },
  {
   "cell_type": "markdown",
   "metadata": {},
   "source": [
    "### Result\n",
    "\n",
    "After the simulation finishes we can observe the results. "
   ]
  },
  {
   "cell_type": "code",
   "execution_count": null,
   "metadata": {
    "tags": []
   },
   "outputs": [],
   "source": [
    "viz.animate_SWE(cwd, 'example_wshd', '2022-07-15')\n",
    "# viz.plot_single_date(cwd, 'example_wshd', '2022-04-01')"
   ]
  },
  {
   "cell_type": "markdown",
   "metadata": {},
   "source": [
    "The modeled domain lies outside of the \"truth\" data, so we cannot directly evalutate this result. Instead, we will look at a nearby observation station (Mammoth Pass CDEC) and qualitatively compare to determine if our result is realistic. \n",
    "\n",
    "Mammoth Pass lies approximately 30 km to the south east and sits at a similar to the higher elevation of our watershed. To compare we will look at the maximum modeled SWE value for each date and plot against the observed.\n",
    "\n",
    "<img align = 'center' src=\"../../Images/example_watershed.png\" alt = 'image' width = '600'/>"
   ]
  },
  {
   "cell_type": "code",
   "execution_count": null,
   "metadata": {
    "tags": []
   },
   "outputs": [],
   "source": [
    "viz.animate_SWE2(cwd, 'example_wshd', '2022-07-15')"
   ]
  },
  {
   "cell_type": "code",
   "execution_count": null,
   "metadata": {},
   "outputs": [],
   "source": []
  }
 ],
 "metadata": {
  "kernelspec": {
   "display_name": "notebook",
   "language": "python",
   "name": "notebook"
  },
  "language_info": {
   "codemirror_mode": {
    "name": "ipython",
    "version": 3
   },
   "file_extension": ".py",
   "mimetype": "text/x-python",
   "name": "python",
   "nbconvert_exporter": "python",
   "pygments_lexer": "ipython3",
   "version": "3.9.12"
  }
 },
 "nbformat": 4,
 "nbformat_minor": 4
}
